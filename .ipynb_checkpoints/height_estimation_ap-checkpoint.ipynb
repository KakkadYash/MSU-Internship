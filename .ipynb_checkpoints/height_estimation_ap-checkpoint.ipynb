{
 "cells": [
  {
   "cell_type": "code",
   "execution_count": 84,
   "id": "39bcdc6b-8d87-48ed-a6c6-0732da89752d",
   "metadata": {},
   "outputs": [
    {
     "name": "stdout",
     "output_type": "stream",
     "text": [
      "\n",
      " Running AlphaPose on: v1.mp4\n",
      "\n",
      " Running AlphaPose on: v10.mp4\n",
      "\n",
      " Running AlphaPose on: v11.mp4\n",
      "\n",
      " Running AlphaPose on: v13.mp4\n",
      "\n",
      " Running AlphaPose on: v14.mp4\n",
      "\n",
      " Running AlphaPose on: v15.mp4\n",
      "\n",
      " Running AlphaPose on: v16.mp4\n",
      "\n",
      " Running AlphaPose on: v17.mp4\n",
      "\n",
      " Running AlphaPose on: v18.mp4\n",
      "\n",
      " Running AlphaPose on: v19.mp4\n",
      "\n",
      " Running AlphaPose on: v2.mp4\n",
      "\n",
      " Running AlphaPose on: v20.mp4\n",
      "\n",
      " Running AlphaPose on: v21.mp4\n",
      "\n",
      " Running AlphaPose on: v22.MOV\n",
      "\n",
      " Running AlphaPose on: v23.mp4\n",
      "\n",
      " Running AlphaPose on: v24.mp4\n",
      "\n",
      " Running AlphaPose on: v25.mp4\n",
      "\n",
      " Running AlphaPose on: v26.mp4\n",
      "\n",
      " Running AlphaPose on: v27.mp4\n",
      "\n",
      " Running AlphaPose on: v28.mp4\n",
      "\n",
      " Running AlphaPose on: v29.mp4\n",
      "\n",
      " Running AlphaPose on: v3.mp4\n",
      "\n",
      " Running AlphaPose on: v30.mp4\n",
      "\n",
      " Running AlphaPose on: v31.mp4\n",
      "\n",
      " Running AlphaPose on: v32.mp4\n",
      "\n",
      " Running AlphaPose on: v33.mp4\n",
      "\n",
      " Running AlphaPose on: v34.mp4\n",
      "\n",
      " Running AlphaPose on: v35.mp4\n",
      "\n",
      " Running AlphaPose on: v36.mp4\n",
      "\n",
      " Running AlphaPose on: v37.mp4\n",
      "\n",
      " Running AlphaPose on: v4.mp4\n",
      "\n",
      " Running AlphaPose on: v40.mp4\n",
      "\n",
      " Running AlphaPose on: v41.mp4\n",
      "\n",
      " Running AlphaPose on: v42.mp4\n",
      "\n",
      " Running AlphaPose on: v43.mp4\n",
      "\n",
      " Running AlphaPose on: v44.mp4\n",
      "\n",
      " Running AlphaPose on: v45.mp4\n",
      "\n",
      " Running AlphaPose on: v46.mp4\n",
      "\n",
      " Running AlphaPose on: v47.mp4\n",
      "\n",
      " Running AlphaPose on: v48.mp4\n",
      "\n",
      " Running AlphaPose on: v49.mp4\n",
      "\n",
      " Running AlphaPose on: v5.mp4\n",
      "\n",
      " Running AlphaPose on: v50.mp4\n",
      "\n",
      " Running AlphaPose on: v51.mp4\n",
      "\n",
      " Running AlphaPose on: v52.mp4\n",
      "\n",
      " Running AlphaPose on: v53.mp4\n",
      "\n",
      " Running AlphaPose on: v54.mp4\n",
      "\n",
      " Running AlphaPose on: v55.mp4\n",
      "\n",
      " Running AlphaPose on: v56.mp4\n",
      "\n",
      " Running AlphaPose on: v57.mp4\n",
      "\n",
      " Running AlphaPose on: v58.mp4\n",
      "\n",
      " Running AlphaPose on: v6.mp4\n",
      "\n",
      " Running AlphaPose on: v60.mp4\n",
      "\n",
      " Running AlphaPose on: v61.mp4\n",
      "\n",
      " Running AlphaPose on: v62.mp4\n",
      "\n",
      " Running AlphaPose on: v64.mp4\n",
      "\n",
      " Running AlphaPose on: v65.mp4\n",
      "\n",
      " Running AlphaPose on: v66.mp4\n",
      "\n",
      " Running AlphaPose on: v67.mp4\n",
      "\n",
      " Running AlphaPose on: v68.mp4\n",
      "\n",
      " Running AlphaPose on: v69.mp4\n",
      "\n",
      " Running AlphaPose on: v7.mp4\n",
      "\n",
      " Running AlphaPose on: v70.mp4\n",
      "\n",
      " Running AlphaPose on: v71.mp4\n",
      "\n",
      " Running AlphaPose on: v72.mp4\n",
      "\n",
      " Running AlphaPose on: v73.mp4\n",
      "\n",
      " Running AlphaPose on: v74.mp4\n",
      "\n",
      " Running AlphaPose on: v75.mp4\n",
      "\n",
      " Running AlphaPose on: v76.mp4\n",
      "\n",
      " Running AlphaPose on: v77.mp4\n",
      "\n",
      " Running AlphaPose on: v78.mp4\n",
      "\n",
      " Running AlphaPose on: v79.mp4\n",
      "\n",
      " Running AlphaPose on: v8.mp4\n",
      "\n",
      " Running AlphaPose on: v80.mp4\n",
      "\n",
      " Running AlphaPose on: v81.mp4\n",
      "\n",
      " Running AlphaPose on: v82.mp4\n",
      "\n",
      " Running AlphaPose on: v83.mp4\n",
      "\n",
      " Running AlphaPose on: v84.mp4\n",
      "\n",
      " Running AlphaPose on: v85.mp4\n",
      "\n",
      " Running AlphaPose on: v86.mp4\n",
      "\n",
      " Running AlphaPose on: v87.mp4\n",
      "\n",
      " Running AlphaPose on: v9.mp4\n",
      "\n",
      " Finished processing all videos.\n"
     ]
    }
   ],
   "source": [
    "import os\n",
    "import subprocess\n",
    "\n",
    "# Paths\n",
    "alphapose_dir = \"C:/Users/BRINTA/Downloads/He_2/AlphaPose\"\n",
    "video_dir = \"C:/Users/BRINTA/Downloads/He_2/videos\"\n",
    "output_dir = \"alphapose_output\"\n",
    "\n",
    "# AlphaPose model config and weights\n",
    "cfg_file = os.path.join(alphapose_dir, \"configs\", \"coco\", \"resnet\", \"256x192_res50_lr1e-3_1x.yaml\")\n",
    "checkpoint_file = os.path.join(alphapose_dir, \"pretrained_models\", \"pose_resnet_50_256x192.pth\")\n",
    "\n",
    "# Ensure output directory exists\n",
    "os.makedirs(output_dir, exist_ok=True)\n",
    "\n",
    "# List all video files in the input directory\n",
    "videos = [f for f in os.listdir(video_dir) if f.lower().endswith((\".mp4\", \".mov\"))]\n",
    "\n",
    "for video_file in videos:\n",
    "    video_path = os.path.join(video_dir, video_file)\n",
    "    video_name = os.path.splitext(video_file)[0]\n",
    "    out_path = os.path.join(output_dir, video_name)\n",
    "\n",
    "    os.makedirs(out_path, exist_ok=True)\n",
    "\n",
    "    print(f\"\\n Running AlphaPose on: {video_file}\")\n",
    "\n",
    "    command = [\n",
    "        \"python\",\n",
    "        os.path.join(alphapose_dir, \"scripts\", \"demo_inference.py\"),\n",
    "        \"--cfg\", cfg_file,\n",
    "        \"--checkpoint\", checkpoint_file,\n",
    "        \"--video\", video_path,\n",
    "        \"--outdir\", out_path,\n",
    "        \"--save_video\",\n",
    "        \"--vis_fast\"\n",
    "    ]\n",
    "\n",
    "    # Run AlphaPose on this video\n",
    "    subprocess.run(command)\n",
    "\n",
    "print(\"\\n Finished processing all videos.\")\n"
   ]
  },
  {
   "cell_type": "code",
   "execution_count": null,
   "id": "5d0f5e3b-98ab-4ffc-b54d-35576bfec340",
   "metadata": {},
   "outputs": [],
   "source": [
    "import os\n",
    "import cv2\n",
    "import numpy as np\n",
    "import pandas as pd\n",
    "import mediapipe as mp\n",
    "import tensorflow as tf\n",
    "from sklearn.model_selection import train_test_split\n",
    "from sklearn.preprocessing import StandardScaler\n",
    "from sklearn.metrics import mean_absolute_error, mean_squared_error, r2_score\n",
    "from keras_tuner import HyperModel, RandomSearch\n",
    "import matplotlib.pyplot as plt"
   ]
  },
  {
   "cell_type": "code",
   "execution_count": null,
   "id": "d262a9b3-6187-4b45-9846-f6f5fb3c1c42",
   "metadata": {},
   "outputs": [],
   "source": [
    "# --- Constants & Enums ---\n",
    "mp_pose = mp.solutions.pose\n",
    "POSE_LANDMARKS = mp_pose.PoseLandmark"
   ]
  },
  {
   "cell_type": "code",
   "execution_count": null,
   "id": "7995cc26-8d5e-45c7-8a22-e8b8eb90a769",
   "metadata": {},
   "outputs": [],
   "source": [
    "# --- Data Loading & Preprocessing ---\n",
    "def extract_landmarks_from_video(video_path, sampling_rate=5, confidence_threshold=0.7):\n",
    "    pose = mp_pose.Pose(static_image_mode=False, min_detection_confidence=0.7, min_tracking_confidence=0.5)\n",
    "    cap = cv2.VideoCapture(video_path)\n",
    "    all_features = []\n",
    "    frame_idx = 0\n",
    "\n",
    "    while cap.isOpened():\n",
    "        ret, frame = cap.read()\n",
    "        if not ret:\n",
    "            break\n",
    "\n",
    "        if frame_idx % sampling_rate == 0:\n",
    "            features = extract_features_from_frame(frame, pose, confidence_threshold)\n",
    "            if features is not None:\n",
    "                all_features.append(features)\n",
    "\n",
    "        frame_idx += 1\n",
    "\n",
    "    cap.release()\n",
    "    pose.close()\n",
    "    return np.array(all_features) if all_features else None\n",
    "\n",
    "def extract_features_from_frame(frame, pose, confidence_threshold):\n",
    "    results = pose.process(cv2.cvtColor(frame, cv2.COLOR_BGR2RGB))\n",
    "    if results.pose_landmarks:\n",
    "        landmarks = [(lm.x, lm.y, lm.z, lm.visibility) for lm in results.pose_landmarks.landmark]\n",
    "        landmarks = np.array([[(x if v > confidence_threshold else 0, \n",
    "                               y if v > confidence_threshold else 0,\n",
    "                               z if v > confidence_threshold else 0) \n",
    "                              for x, y, z, v in [landmarks[i]]]\n",
    "                             for i in range(len(landmarks))]).reshape(-1)\n",
    "\n",
    "        if np.all(landmarks == 0):\n",
    "            return None\n",
    "\n",
    "        norm_landmarks = normalize_landmarks(landmarks)\n",
    "        additional = calculate_additional_features(norm_landmarks)\n",
    "        return np.concatenate((norm_landmarks, additional))\n",
    "    return None\n",
    "\n",
    "def normalize_landmarks(landmarks):\n",
    "    left_hip = landmarks[POSE_LANDMARKS.LEFT_HIP.value*3:POSE_LANDMARKS.LEFT_HIP.value*3+3]\n",
    "    left_shoulder = landmarks[POSE_LANDMARKS.LEFT_SHOULDER.value*3:POSE_LANDMARKS.LEFT_SHOULDER.value*3+3]\n",
    "    torso_len = np.linalg.norm(left_hip - left_shoulder)\n",
    "    return landmarks / (torso_len + 1e-6)\n",
    "\n",
    "def calculate_additional_features(landmarks):\n",
    "    def get(p): return landmarks[p*3:p*3+3]\n",
    "    distances = [\n",
    "        np.linalg.norm(get(POSE_LANDMARKS.LEFT_SHOULDER) - get(POSE_LANDMARKS.RIGHT_SHOULDER)),\n",
    "        np.linalg.norm(get(POSE_LANDMARKS.LEFT_HIP) - get(POSE_LANDMARKS.RIGHT_HIP)),\n",
    "        np.linalg.norm(get(POSE_LANDMARKS.NOSE) - get(POSE_LANDMARKS.LEFT_ANKLE)),\n",
    "        np.linalg.norm(get(POSE_LANDMARKS.NOSE) - get(POSE_LANDMARKS.RIGHT_ANKLE))\n",
    "    ]\n",
    "    # Left knee angle\n",
    "    hip = get(POSE_LANDMARKS.LEFT_HIP)\n",
    "    knee = get(POSE_LANDMARKS.LEFT_KNEE)\n",
    "    ankle = get(POSE_LANDMARKS.LEFT_ANKLE)\n",
    "    v1, v2 = hip - knee, ankle - knee\n",
    "    cos_theta = np.dot(v1, v2) / (np.linalg.norm(v1) * np.linalg.norm(v2) + 1e-6)\n",
    "    angle = np.arccos(np.clip(cos_theta, -1.0, 1.0))\n",
    "    return np.array(distances + [angle])"
   ]
  },
  {
   "cell_type": "code",
   "execution_count": 98,
   "id": "903a6517-2744-4e06-a3a9-dad410584b78",
   "metadata": {},
   "outputs": [],
   "source": [
    "# --- Data Preparation ---\n",
    "def load_dataset(data, image_folder):\n",
    "    features, labels = [], []\n",
    "    for _, row in data.iterrows():\n",
    "        image_name = f\"{os.path.splitext(row['video_name'])[0]}_frame{row['frame_index']}.jpg\"\n",
    "        image_path = os.path.join(image_folder, image_name)\n",
    "        frame = cv2.imread(image_path)\n",
    "        if frame is not None:\n",
    "            pose = mp_pose.Pose(static_image_mode=True, min_detection_confidence=0.7)\n",
    "            feature = extract_features_from_frame(frame, pose, 0.7)\n",
    "            pose.close()\n",
    "            if feature is not None:\n",
    "                features.append(feature)\n",
    "                labels.append(row['height'])\n",
    "    return np.array(features), np.array(labels)"
   ]
  },
  {
   "cell_type": "code",
   "execution_count": 100,
   "id": "b6cb6915-8a94-4cb2-81a7-38ec27e665d3",
   "metadata": {},
   "outputs": [],
   "source": [
    "# --- Model ---\n",
    "class HeightEstimationHyperModel(HyperModel):\n",
    "    def build(self, hp):\n",
    "        model = tf.keras.Sequential()\n",
    "        model.add(tf.keras.layers.Input(shape=(X.shape[1],)))\n",
    "        for i in range(hp.Int(\"num_layers\", 1, 3)):\n",
    "            units = hp.Int(f\"units_{i}\", 64, 256, step=64)\n",
    "            model.add(tf.keras.layers.Dense(units))\n",
    "            model.add(tf.keras.layers.LeakyReLU())\n",
    "            model.add(tf.keras.layers.BatchNormalization())\n",
    "            model.add(tf.keras.layers.Dropout(0.3))\n",
    "        model.add(tf.keras.layers.Dense(1))\n",
    "        model.compile(\n",
    "            optimizer=tf.keras.optimizers.Adam(hp.Choice(\"lr\", [1e-3, 1e-4, 1e-5])),\n",
    "            loss=\"mse\",\n",
    "            metrics=[\"mae\"]\n",
    "        )\n",
    "        return model"
   ]
  },
  {
   "cell_type": "code",
   "execution_count": 114,
   "id": "c4798e16-a0e0-403e-b70d-2974a9366fb0",
   "metadata": {},
   "outputs": [],
   "source": [
    "# --- Training ---\n",
    "def train_model(X, y):\n",
    "    X_train, X_val, y_train, y_val = train_test_split(X, y, test_size=0.2, random_state=42)\n",
    "    tuner = RandomSearch(\n",
    "        HeightEstimationHyperModel(),\n",
    "        objective=\"val_mae\",\n",
    "        max_trials=10,\n",
    "        executions_per_trial=1,\n",
    "        directory=\"tuning\",\n",
    "        project_name=\"height_model\"\n",
    "    )\n",
    "    tuner.search(X_train, y_train, epochs=10, validation_data=(X_val, y_val))\n",
    "    best_model = tuner.get_best_models(1)[0]\n",
    "    history = best_model.fit(X_train, y_train, validation_data=(X_val, y_val), epochs=30)\n",
    "    return best_model, history, X_val, y_val"
   ]
  },
  {
   "cell_type": "code",
   "execution_count": 124,
   "id": "b4df53ed-0028-40c3-8d9f-0215efb4c0a0",
   "metadata": {},
   "outputs": [],
   "source": [
    "# --- Evaluation ---\n",
    "def evaluate(model, X_val, y_val):\n",
    "    preds = model.predict(X_val).flatten()\n",
    "    print(\"MAE:\", mean_absolute_error(y_val, preds))\n",
    "    print(\"RMSE:\", mean_squared_error(y_val, preds, squared=False))\n",
    "    print(\"R2:\", r2_score(y_val, preds))\n",
    "    return preds\n",
    "\n",
    "   \n"
   ]
  },
  {
   "cell_type": "code",
   "execution_count": 142,
   "id": "443b3f02-278c-4ae7-9fc3-2611f96a7fd3",
   "metadata": {},
   "outputs": [
    {
     "name": "stdout",
     "output_type": "stream",
     "text": [
      "\u001b[1m15/15\u001b[0m \u001b[32m━━━━━━━━━━━━━━━━━━━━\u001b[0m\u001b[37m\u001b[0m \u001b[1m0s\u001b[0m 5ms/step \n",
      "MAE: 0.1065099117536043\n",
      "RMSE: 0.13726132572629274\n",
      "R2: 0.30981845907674055\n",
      "True: 2.0 cm | Predicted: 1.8 cm\n",
      "True: 1.7 cm | Predicted: 1.8 cm\n",
      "True: 1.8 cm | Predicted: 1.8 cm\n",
      "True: 1.9 cm | Predicted: 1.9 cm\n",
      "True: 1.8 cm | Predicted: 1.8 cm\n"
     ]
    },
    {
     "name": "stderr",
     "output_type": "stream",
     "text": [
      "C:\\Users\\BRINTA\\anaconda3\\Lib\\site-packages\\sklearn\\metrics\\_regression.py:492: FutureWarning: 'squared' is deprecated in version 1.4 and will be removed in 1.6. To calculate the root mean squared error, use the function'root_mean_squared_error'.\n",
      "  warnings.warn(\n"
     ]
    }
   ],
   "source": [
    "preds = evaluate(model, X_val, y_val)\n",
    "\n",
    "# Now show the first few predictions alongside actuals\n",
    "for true, pred in zip(y_val[:5], preds[:5]):\n",
    "    print(f\"True: {true:.1f} cm | Predicted: {pred:.1f} cm\")"
   ]
  },
  {
   "cell_type": "code",
   "execution_count": 138,
   "id": "79ac0164-cd3e-446a-847f-63321ad96ea6",
   "metadata": {},
   "outputs": [
    {
     "name": "stdout",
     "output_type": "stream",
     "text": [
      "\u001b[1m15/15\u001b[0m \u001b[32m━━━━━━━━━━━━━━━━━━━━\u001b[0m\u001b[37m\u001b[0m \u001b[1m0s\u001b[0m 7ms/step\n",
      "MAE: 0.1065099117536043\n",
      "RMSE: 0.13726132572629274\n",
      "R2: 0.30981845907674055\n"
     ]
    },
    {
     "name": "stderr",
     "output_type": "stream",
     "text": [
      "C:\\Users\\BRINTA\\anaconda3\\Lib\\site-packages\\sklearn\\metrics\\_regression.py:492: FutureWarning: 'squared' is deprecated in version 1.4 and will be removed in 1.6. To calculate the root mean squared error, use the function'root_mean_squared_error'.\n",
      "  warnings.warn(\n"
     ]
    },
    {
     "data": {
      "text/plain": [
       "<Figure size 600x600 with 0 Axes>"
      ]
     },
     "metadata": {},
     "output_type": "display_data"
    },
    {
     "data": {
      "text/plain": [
       "<Figure size 600x600 with 0 Axes>"
      ]
     },
     "metadata": {},
     "output_type": "display_data"
    },
    {
     "data": {
      "text/plain": [
       "<Figure size 600x600 with 0 Axes>"
      ]
     },
     "metadata": {},
     "output_type": "display_data"
    },
    {
     "data": {
      "image/png": "[encoded data removed]",
      "text/plain": [
       "<Figure size 600x600 with 1 Axes>"
      ]
     },
     "metadata": {},
     "output_type": "display_data"
    }
   ],
   "source": [
    "preds = evaluate(model, X_val, y_val)\n",
    "\n",
    "# Plot predictions\n",
    "import matplotlib.pyplot as plt\n",
    "%matplotlib inline\n",
    "\n",
    "plt.figure(figsize=(6, 6))\n",
    "plt.scatter(y_val, preds, alpha=0.5)\n",
    "plt.plot([min(y_val), max(y_val)], [min(y_val), max(y_val)], 'r--')\n",
    "plt.xlabel(\"True Height (cm)\")\n",
    "plt.ylabel(\"Predicted Height (cm)\")\n",
    "plt.title(\"Predicted vs True Heights\")\n",
    "plt.grid(True)\n",
    "plt.show()\n"
   ]
  },
  {
   "cell_type": "code",
   "execution_count": 140,
   "id": "eab874b4-6ffe-4a30-9775-fe21987e0a78",
   "metadata": {},
   "outputs": [],
   "source": [
    "# --- Prediction ---\n",
    "def predict_from_video(video_path, model, scaler):\n",
    "    features = extract_landmarks_from_video(video_path)\n",
    "    if features is None or len(features) == 0:\n",
    "        return None\n",
    "    features_scaled = scaler.transform(features)\n",
    "    preds = model.predict(features_scaled)\n",
    "    mean = np.mean(preds)\n",
    "    std = np.std(preds)\n",
    "    filtered = preds[(preds > mean - std) & (preds < mean + std)]\n",
    "    return np.mean(filtered) if len(filtered) > 0 else mean"
   ]
  },
  {
   "cell_type": "code",
   "execution_count": 157,
   "id": "fb5aed77-aa32-4707-9c02-1c5ece3071a4",
   "metadata": {},
   "outputs": [
    {
     "name": "stdout",
     "output_type": "stream",
     "text": [
      "Reloading Tuner from tuning\\height_model\\tuner0.json\n",
      "Epoch 1/30\n"
     ]
    },
    {
     "name": "stderr",
     "output_type": "stream",
     "text": [
      "C:\\Users\\BRINTA\\anaconda3\\Lib\\site-packages\\keras\\src\\saving\\saving_lib.py:802: UserWarning: Skipping variable loading for optimizer 'adam', because it has 2 variables whereas the saved optimizer has 22 variables. \n",
      "  saveable.load_own_variables(weights_store.get(inner_path))\n"
     ]
    },
    {
     "name": "stdout",
     "output_type": "stream",
     "text": [
      "\u001b[1m68/68\u001b[0m \u001b[32m━━━━━━━━━━━━━━━━━━━━\u001b[0m\u001b[37m\u001b[0m \u001b[1m7s\u001b[0m 20ms/step - loss: 0.2871 - mae: 0.4000 - val_loss: 0.0868 - val_mae: 0.2377\n",
      "Epoch 2/30\n",
      "\u001b[1m68/68\u001b[0m \u001b[32m━━━━━━━━━━━━━━━━━━━━\u001b[0m\u001b[37m\u001b[0m \u001b[1m1s\u001b[0m 11ms/step - loss: 0.2285 - mae: 0.3468 - val_loss: 0.0567 - val_mae: 0.1741\n",
      "Epoch 3/30\n",
      "\u001b[1m68/68\u001b[0m \u001b[32m━━━━━━━━━━━━━━━━━━━━\u001b[0m\u001b[37m\u001b[0m \u001b[1m1s\u001b[0m 11ms/step - loss: 0.1789 - mae: 0.3226 - val_loss: 0.0431 - val_mae: 0.1516\n",
      "Epoch 4/30\n",
      "\u001b[1m68/68\u001b[0m \u001b[32m━━━━━━━━━━━━━━━━━━━━\u001b[0m\u001b[37m\u001b[0m \u001b[1m1s\u001b[0m 11ms/step - loss: 0.1473 - mae: 0.2823 - val_loss: 0.0587 - val_mae: 0.1898\n",
      "Epoch 5/30\n",
      "\u001b[1m68/68\u001b[0m \u001b[32m━━━━━━━━━━━━━━━━━━━━\u001b[0m\u001b[37m\u001b[0m \u001b[1m1s\u001b[0m 11ms/step - loss: 0.1176 - mae: 0.2631 - val_loss: 0.0404 - val_mae: 0.1598\n",
      "Epoch 6/30\n",
      "\u001b[1m68/68\u001b[0m \u001b[32m━━━━━━━━━━━━━━━━━━━━\u001b[0m\u001b[37m\u001b[0m \u001b[1m1s\u001b[0m 11ms/step - loss: 0.1187 - mae: 0.2544 - val_loss: 0.0606 - val_mae: 0.1938\n",
      "Epoch 7/30\n",
      "\u001b[1m68/68\u001b[0m \u001b[32m━━━━━━━━━━━━━━━━━━━━\u001b[0m\u001b[37m\u001b[0m \u001b[1m1s\u001b[0m 11ms/step - loss: 0.1094 - mae: 0.2489 - val_loss: 0.0347 - val_mae: 0.1374\n",
      "Epoch 8/30\n",
      "\u001b[1m68/68\u001b[0m \u001b[32m━━━━━━━━━━━━━━━━━━━━\u001b[0m\u001b[37m\u001b[0m \u001b[1m1s\u001b[0m 11ms/step - loss: 0.0824 - mae: 0.2183 - val_loss: 0.0371 - val_mae: 0.1522\n",
      "Epoch 9/30\n",
      "\u001b[1m68/68\u001b[0m \u001b[32m━━━━━━━━━━━━━━━━━━━━\u001b[0m\u001b[37m\u001b[0m \u001b[1m1s\u001b[0m 11ms/step - loss: 0.0839 - mae: 0.2214 - val_loss: 0.0307 - val_mae: 0.1329\n",
      "Epoch 10/30\n",
      "\u001b[1m68/68\u001b[0m \u001b[32m━━━━━━━━━━━━━━━━━━━━\u001b[0m\u001b[37m\u001b[0m \u001b[1m1s\u001b[0m 11ms/step - loss: 0.0810 - mae: 0.2158 - val_loss: 0.0307 - val_mae: 0.1344\n",
      "Epoch 11/30\n",
      "\u001b[1m68/68\u001b[0m \u001b[32m━━━━━━━━━━━━━━━━━━━━\u001b[0m\u001b[37m\u001b[0m \u001b[1m1s\u001b[0m 11ms/step - loss: 0.0666 - mae: 0.1975 - val_loss: 0.0280 - val_mae: 0.1294\n",
      "Epoch 12/30\n",
      "\u001b[1m68/68\u001b[0m \u001b[32m━━━━━━━━━━━━━━━━━━━━\u001b[0m\u001b[37m\u001b[0m \u001b[1m1s\u001b[0m 11ms/step - loss: 0.0665 - mae: 0.1975 - val_loss: 0.0290 - val_mae: 0.1274\n",
      "Epoch 13/30\n",
      "\u001b[1m68/68\u001b[0m \u001b[32m━━━━━━━━━━━━━━━━━━━━\u001b[0m\u001b[37m\u001b[0m \u001b[1m1s\u001b[0m 11ms/step - loss: 0.0613 - mae: 0.1923 - val_loss: 0.0286 - val_mae: 0.1342\n",
      "Epoch 14/30\n",
      "\u001b[1m68/68\u001b[0m \u001b[32m━━━━━━━━━━━━━━━━━━━━\u001b[0m\u001b[37m\u001b[0m \u001b[1m1s\u001b[0m 11ms/step - loss: 0.0637 - mae: 0.1929 - val_loss: 0.0286 - val_mae: 0.1270\n",
      "Epoch 15/30\n",
      "\u001b[1m68/68\u001b[0m \u001b[32m━━━━━━━━━━━━━━━━━━━━\u001b[0m\u001b[37m\u001b[0m \u001b[1m1s\u001b[0m 11ms/step - loss: 0.0585 - mae: 0.1860 - val_loss: 0.0299 - val_mae: 0.1363\n",
      "Epoch 16/30\n",
      "\u001b[1m68/68\u001b[0m \u001b[32m━━━━━━━━━━━━━━━━━━━━\u001b[0m\u001b[37m\u001b[0m \u001b[1m1s\u001b[0m 11ms/step - loss: 0.0544 - mae: 0.1799 - val_loss: 0.0275 - val_mae: 0.1268\n",
      "Epoch 17/30\n",
      "\u001b[1m68/68\u001b[0m \u001b[32m━━━━━━━━━━━━━━━━━━━━\u001b[0m\u001b[37m\u001b[0m \u001b[1m1s\u001b[0m 11ms/step - loss: 0.0552 - mae: 0.1822 - val_loss: 0.0281 - val_mae: 0.1320\n",
      "Epoch 18/30\n",
      "\u001b[1m68/68\u001b[0m \u001b[32m━━━━━━━━━━━━━━━━━━━━\u001b[0m\u001b[37m\u001b[0m \u001b[1m1s\u001b[0m 11ms/step - loss: 0.0521 - mae: 0.1780 - val_loss: 0.0256 - val_mae: 0.1237\n",
      "Epoch 19/30\n",
      "\u001b[1m68/68\u001b[0m \u001b[32m━━━━━━━━━━━━━━━━━━━━\u001b[0m\u001b[37m\u001b[0m \u001b[1m1s\u001b[0m 11ms/step - loss: 0.0517 - mae: 0.1785 - val_loss: 0.0297 - val_mae: 0.1317\n",
      "Epoch 20/30\n",
      "\u001b[1m68/68\u001b[0m \u001b[32m━━━━━━━━━━━━━━━━━━━━\u001b[0m\u001b[37m\u001b[0m \u001b[1m1s\u001b[0m 11ms/step - loss: 0.0496 - mae: 0.1716 - val_loss: 0.0267 - val_mae: 0.1226\n",
      "Epoch 21/30\n",
      "\u001b[1m68/68\u001b[0m \u001b[32m━━━━━━━━━━━━━━━━━━━━\u001b[0m\u001b[37m\u001b[0m \u001b[1m1s\u001b[0m 11ms/step - loss: 0.0495 - mae: 0.1715 - val_loss: 0.0263 - val_mae: 0.1267\n",
      "Epoch 22/30\n",
      "\u001b[1m68/68\u001b[0m \u001b[32m━━━━━━━━━━━━━━━━━━━━\u001b[0m\u001b[37m\u001b[0m \u001b[1m1s\u001b[0m 11ms/step - loss: 0.0464 - mae: 0.1655 - val_loss: 0.0272 - val_mae: 0.1261\n",
      "Epoch 23/30\n",
      "\u001b[1m68/68\u001b[0m \u001b[32m━━━━━━━━━━━━━━━━━━━━\u001b[0m\u001b[37m\u001b[0m \u001b[1m1s\u001b[0m 11ms/step - loss: 0.0441 - mae: 0.1644 - val_loss: 0.0262 - val_mae: 0.1274\n",
      "Epoch 24/30\n",
      "\u001b[1m68/68\u001b[0m \u001b[32m━━━━━━━━━━━━━━━━━━━━\u001b[0m\u001b[37m\u001b[0m \u001b[1m1s\u001b[0m 11ms/step - loss: 0.0486 - mae: 0.1699 - val_loss: 0.0291 - val_mae: 0.1334\n",
      "Epoch 25/30\n",
      "\u001b[1m68/68\u001b[0m \u001b[32m━━━━━━━━━━━━━━━━━━━━\u001b[0m\u001b[37m\u001b[0m \u001b[1m1s\u001b[0m 11ms/step - loss: 0.0475 - mae: 0.1721 - val_loss: 0.0276 - val_mae: 0.1231\n",
      "Epoch 26/30\n",
      "\u001b[1m68/68\u001b[0m \u001b[32m━━━━━━━━━━━━━━━━━━━━\u001b[0m\u001b[37m\u001b[0m \u001b[1m1s\u001b[0m 11ms/step - loss: 0.0431 - mae: 0.1601 - val_loss: 0.0262 - val_mae: 0.1246\n",
      "Epoch 27/30\n",
      "\u001b[1m68/68\u001b[0m \u001b[32m━━━━━━━━━━━━━━━━━━━━\u001b[0m\u001b[37m\u001b[0m \u001b[1m1s\u001b[0m 11ms/step - loss: 0.0435 - mae: 0.1615 - val_loss: 0.0244 - val_mae: 0.1159\n",
      "Epoch 28/30\n",
      "\u001b[1m68/68\u001b[0m \u001b[32m━━━━━━━━━━━━━━━━━━━━\u001b[0m\u001b[37m\u001b[0m \u001b[1m1s\u001b[0m 11ms/step - loss: 0.0405 - mae: 0.1585 - val_loss: 0.0250 - val_mae: 0.1240\n",
      "Epoch 29/30\n",
      "\u001b[1m68/68\u001b[0m \u001b[32m━━━━━━━━━━━━━━━━━━━━\u001b[0m\u001b[37m\u001b[0m \u001b[1m1s\u001b[0m 11ms/step - loss: 0.0403 - mae: 0.1568 - val_loss: 0.0268 - val_mae: 0.1274\n",
      "Epoch 30/30\n",
      "\u001b[1m68/68\u001b[0m \u001b[32m━━━━━━━━━━━━━━━━━━━━\u001b[0m\u001b[37m\u001b[0m \u001b[1m1s\u001b[0m 11ms/step - loss: 0.0399 - mae: 0.1566 - val_loss: 0.0228 - val_mae: 0.1154\n",
      "\u001b[1m17/17\u001b[0m \u001b[32m━━━━━━━━━━━━━━━━━━━━\u001b[0m\u001b[37m\u001b[0m \u001b[1m1s\u001b[0m 17ms/step\n",
      "MAE: 0.1154344538253557\n",
      "RMSE: 0.15103598187953376\n",
      "R2: 0.351218678289703\n"
     ]
    },
    {
     "name": "stderr",
     "output_type": "stream",
     "text": [
      "C:\\Users\\BRINTA\\anaconda3\\Lib\\site-packages\\sklearn\\metrics\\_regression.py:492: FutureWarning: 'squared' is deprecated in version 1.4 and will be removed in 1.6. To calculate the root mean squared error, use the function'root_mean_squared_error'.\n",
      "  warnings.warn(\n"
     ]
    }
   ],
   "source": [
    "# --- Usage Example ---\n",
    "if __name__ == \"__main__\":\n",
    "    csv_file_path = r\"C:/Users/BRINTA/Downloads/He_2/H_data/athlete_heights.csv\"\n",
    "    data_folder = r\"C:/Users/BRINTA/Downloads/He_2/H_data\"\n",
    "\n",
    "    df = pd.read_csv(csv_file_path)\n",
    "    X, y = load_dataset(df, data_folder)\n",
    "\n",
    "    scaler = StandardScaler()\n",
    "    X_scaled = scaler.fit_transform(X)\n",
    "\n",
    "    model, history, X_val, y_val = train_model(X_scaled, y)\n",
    "    evaluate(model, X_val, y_val)"
   ]
  },
  {
   "cell_type": "code",
   "execution_count": 155,
   "id": "f9b25a78-329c-44d1-888e-84a8e0d27938",
   "metadata": {},
   "outputs": [
    {
     "name": "stdout",
     "output_type": "stream",
     "text": [
      "\u001b[1m2/2\u001b[0m \u001b[32m━━━━━━━━━━━━━━━━━━━━\u001b[0m\u001b[37m\u001b[0m \u001b[1m0s\u001b[0m 59ms/step\n",
      "Predicted Height: 1.80 cm\n"
     ]
    }
   ],
   "source": [
    "## Test Run \n",
    "\n",
    "\n",
    "video_path = r'C:/Users/BRINTA/Downloads/He_2/videos/v86.mp4'\n",
    "predicted_height = predict_from_video(video_path, model, scaler)\n",
    "print(f\"Predicted Height: {predicted_height:.2f} m\")\n"
   ]
  },
  {
   "cell_type": "code",
   "execution_count": 158,
   "id": "2f4aa6f2-04c1-4902-9f62-2efbdb09d9a9",
   "metadata": {},
   "outputs": [
    {
     "name": "stdout",
     "output_type": "stream",
     "text": [
      "\u001b[1m1/1\u001b[0m \u001b[32m━━━━━━━━━━━━━━━━━━━━\u001b[0m\u001b[37m\u001b[0m \u001b[1m0s\u001b[0m 102ms/step\n",
      "Predicted Height: 2.06 cm\n"
     ]
    }
   ],
   "source": [
    "#Test run 2 \n",
    "\n",
    "video_path = r'C:/Users/BRINTA/Downloads/He_2/videos/v84.mp4'\n",
    "predicted_height = predict_from_video(video_path, model, scaler)\n",
    "print(f\"Predicted Height: {predicted_height:.2f} m\")"
   ]
  },
  {
   "cell_type": "code",
   "execution_count": 159,
   "id": "e5d9c7c7-695a-4c30-8b30-7245399c394e",
   "metadata": {},
   "outputs": [
    {
     "name": "stdout",
     "output_type": "stream",
     "text": [
      "\u001b[1m2/2\u001b[0m \u001b[32m━━━━━━━━━━━━━━━━━━━━\u001b[0m\u001b[37m\u001b[0m \u001b[1m0s\u001b[0m 51ms/step\n",
      "Predicted Height: 1.79 cm\n"
     ]
    }
   ],
   "source": [
    "#Test run 3\n",
    "\n",
    "video_path = r'C:/Users/BRINTA/Downloads/He_2/videos/v1.mp4'\n",
    "predicted_height = predict_from_video(video_path, model, scaler)\n",
    "print(f\"Predicted Height: {predicted_height:.2f} m\")"
   ]
  },
  {
   "cell_type": "code",
   "execution_count": null,
   "id": "b92d38e8-6a7c-4b62-9f67-e9db4b528837",
   "metadata": {},
   "outputs": [],
   "source": []
  }
 ],
 "metadata": {
  "kernelspec": {
   "display_name": "Python [conda env:base] *",
   "language": "python",
   "name": "conda-base-py"
  },
  "language_info": {
   "codemirror_mode": {
    "name": "ipython",
    "version": 3
   },
   "file_extension": ".py",
   "mimetype": "text/x-python",
   "name": "python",
   "nbconvert_exporter": "python",
   "pygments_lexer": "ipython3",
   "version": "3.12.3"
  }
 },
 "nbformat": 4,
 "nbformat_minor": 5
}
